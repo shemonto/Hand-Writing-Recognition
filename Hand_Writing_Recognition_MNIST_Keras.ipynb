{
  "nbformat": 4,
  "nbformat_minor": 0,
  "metadata": {
    "colab": {
      "provenance": []
    },
    "kernelspec": {
      "name": "python3",
      "display_name": "Python 3"
    },
    "accelerator": "TPU"
  },
  "cells": [
    {
      "cell_type": "code",
      "metadata": {
        "id": "gCSZaQqLFeqV"
      },
      "source": [
        "import numpy as np\n",
        "import matplotlib\n",
        "matplotlib.use('agg')\n",
        "import matplotlib.pyplot as plt\n",
        "\n",
        "import os\n",
        "import tensorflow as tf\n",
        "os.environ['TF_CPP_MIN_LOG_LEVEL']='3'\n",
        "\n",
        "#os.environ['CUDA_VISIBLE_DEVICES'] = ''\n",
        "\n",
        "from keras.datasets import mnist\n",
        "from keras.models import Sequential, load_model\n",
        "from keras.layers.core import Dense, Dropout, Activation\n",
        "from keras.utils import np_utils"
      ],
      "execution_count": null,
      "outputs": []
    },
    {
      "cell_type": "code",
      "metadata": {
        "id": "9T9gMCKDGvsI"
      },
      "source": [
        "(X_train, y_train), (X_test, y_test) = mnist.load_data()"
      ],
      "execution_count": null,
      "outputs": []
    },
    {
      "cell_type": "code",
      "metadata": {
        "id": "3iux23yvG02j",
        "outputId": "011f0ab9-8b41-4a12-9169-b8e648619e1e",
        "colab": {
          "base_uri": "https://localhost:8080/",
          "height": 338
        }
      },
      "source": [
        "fig = plt.figure()\n",
        "for i in range(9):\n",
        "  plt.subplot(3,3,i+1)\n",
        "  plt.tight_layout()\n",
        "  plt.imshow(X_train[i], cmap='gray', interpolation='none')\n",
        "  plt.title(\"Digit: {}\".format(y_train[i]))\n",
        "  plt.xticks([])\n",
        "  plt.yticks([])\n",
        "fig"
      ],
      "execution_count": null,
      "outputs": [
        {
          "output_type": "stream",
          "text": [
            "/usr/local/lib/python3.6/dist-packages/ipykernel_launcher.py:1: RuntimeWarning: More than 20 figures have been opened. Figures created through the pyplot interface (`matplotlib.pyplot.figure`) are retained until explicitly closed and may consume too much memory. (To control this warning, see the rcParam `figure.max_open_warning`).\n",
            "  \"\"\"Entry point for launching an IPython kernel.\n"
          ],
          "name": "stderr"
        },
        {
          "output_type": "execute_result",
          "data": {
            "image/png": "[encoded data removed]",
            "text/plain": [
              "<Figure size 432x288 with 9 Axes>"
            ]
          },
          "metadata": {
            "tags": []
          },
          "execution_count": 86
        }
      ]
    },
    {
      "cell_type": "code",
      "metadata": {
        "id": "D7TQiBlZHESl",
        "outputId": "5dc8c3ba-3fa5-4a64-917c-1cbfbca5e753",
        "colab": {
          "base_uri": "https://localhost:8080/",
          "height": 335
        }
      },
      "source": [
        "fig = plt.figure()\n",
        "plt.subplot(2,1,1)\n",
        "plt.imshow(X_train[0], cmap='gray', interpolation='none')\n",
        "plt.title(\"Digit: {}\".format(y_train[0]))\n",
        "plt.xticks([])\n",
        "plt.yticks([])\n",
        "plt.subplot(2,1,2)\n",
        "plt.hist(X_train[0].reshape(784))\n",
        "plt.title(\"Pixel Value Distribution\")\n",
        "fig"
      ],
      "execution_count": null,
      "outputs": [
        {
          "output_type": "stream",
          "text": [
            "/usr/local/lib/python3.6/dist-packages/ipykernel_launcher.py:1: RuntimeWarning: More than 20 figures have been opened. Figures created through the pyplot interface (`matplotlib.pyplot.figure`) are retained until explicitly closed and may consume too much memory. (To control this warning, see the rcParam `figure.max_open_warning`).\n",
            "  \"\"\"Entry point for launching an IPython kernel.\n"
          ],
          "name": "stderr"
        },
        {
          "output_type": "execute_result",
          "data": {
            "image/png": "[encoded data removed]",
            "text/plain": [
              "<Figure size 432x288 with 2 Axes>"
            ]
          },
          "metadata": {
            "tags": []
          },
          "execution_count": 87
        }
      ]
    },
    {
      "cell_type": "code",
      "metadata": {
        "id": "R3isqtZsO1u0",
        "outputId": "5d73d3aa-af5d-4ca9-dc86-803ad454e33c",
        "colab": {
          "base_uri": "https://localhost:8080/",
          "height": 85
        }
      },
      "source": [
        "print(\"X_train shape\", X_train.shape)\n",
        "print(\"y_train shape\", y_train.shape)\n",
        "print(\"X_test shape\", X_test.shape)\n",
        "print(\"y_test shape\", y_test.shape)"
      ],
      "execution_count": null,
      "outputs": [
        {
          "output_type": "stream",
          "text": [
            "X_train shape (60000, 28, 28)\n",
            "y_train shape (60000,)\n",
            "X_test shape (10000, 28, 28)\n",
            "y_test shape (10000,)\n"
          ],
          "name": "stdout"
        }
      ]
    },
    {
      "cell_type": "code",
      "metadata": {
        "id": "QG5TU9mdPdg0",
        "outputId": "1333b0fa-b2bd-4f99-c97d-12f418e8b941",
        "colab": {
          "base_uri": "https://localhost:8080/",
          "height": 51
        }
      },
      "source": [
        "X_train = X_train.reshape(60000, 784)\n",
        "X_test = X_test.reshape(10000, 784)\n",
        "X_train = X_train.astype('float32')\n",
        "X_test = X_test.astype('float32')\n",
        "\n",
        "X_train /= 255\n",
        "X_test /= 255\n",
        "\n",
        "\n",
        "print(\"Train matrix shape\", X_train.shape)\n",
        "print(\"Test matrix shape\", X_test.shape)"
      ],
      "execution_count": null,
      "outputs": [
        {
          "output_type": "stream",
          "text": [
            "Train matrix shape (60000, 784)\n",
            "Test matrix shape (10000, 784)\n"
          ],
          "name": "stdout"
        }
      ]
    },
    {
      "cell_type": "code",
      "metadata": {
        "id": "BO5VM59CPoTE",
        "outputId": "030491f7-a549-41c9-da89-4e699ae4252b",
        "colab": {
          "base_uri": "https://localhost:8080/",
          "height": 34
        }
      },
      "source": [
        "print(np.unique(y_train, return_counts=True))"
      ],
      "execution_count": null,
      "outputs": [
        {
          "output_type": "stream",
          "text": [
            "(array([0, 1, 2, 3, 4, 5, 6, 7, 8, 9], dtype=uint8), array([5923, 6742, 5958, 6131, 5842, 5421, 5918, 6265, 5851, 5949]))\n"
          ],
          "name": "stdout"
        }
      ]
    },
    {
      "cell_type": "code",
      "metadata": {
        "id": "8Lx2A-jTQBvF",
        "outputId": "22eb6492-44fe-49f0-86cb-9769cfd92ba8",
        "colab": {
          "base_uri": "https://localhost:8080/",
          "height": 51
        }
      },
      "source": [
        "n_classes = 10\n",
        "print(\"Shape before one-hot encoding: \", y_train.shape)\n",
        "Y_train = np_utils.to_categorical(y_train, n_classes)\n",
        "Y_test = np_utils.to_categorical(y_test, n_classes)\n",
        "print(\"Shape after one-hot encoding: \", Y_train.shape)"
      ],
      "execution_count": null,
      "outputs": [
        {
          "output_type": "stream",
          "text": [
            "Shape before one-hot encoding:  (60000,)\n",
            "Shape after one-hot encoding:  (60000, 10)\n"
          ],
          "name": "stdout"
        }
      ]
    },
    {
      "cell_type": "code",
      "metadata": {
        "id": "aV_nBzMnQH-z"
      },
      "source": [
        "model = Sequential()\n",
        "'''\n",
        "model.add(Dense(10))\n",
        "model.add(Activation('sigmoid'))\n",
        "\n",
        "model.add(Dense(15))\n",
        "model.add(Activation('softmax'))\n",
        "\n",
        "model.add(Dense(10))\n",
        "model.add(Activation('sigmoid'))\n",
        "'''\n",
        "model.add(Dense(10))\n",
        "model.add(Activation('sigmoid'))"
      ],
      "execution_count": null,
      "outputs": []
    },
    {
      "cell_type": "code",
      "metadata": {
        "id": "ybfweDzyQjdz"
      },
      "source": [
        "model.compile(loss='mean_squared_error', metrics=['accuracy'], optimizer='adam')"
      ],
      "execution_count": null,
      "outputs": []
    },
    {
      "cell_type": "code",
      "metadata": {
        "id": "aY8ekcJXQwJj",
        "outputId": "1fb7f8d9-f869-4292-92ce-ded9d1029f76",
        "colab": {
          "base_uri": "https://localhost:8080/",
          "height": 1000
        }
      },
      "source": [
        "history = model.fit(X_train, Y_train,\n",
        "          batch_size=128, epochs=100,\n",
        "          verbose=2,\n",
        "          validation_data=(X_test, Y_test))"
      ],
      "execution_count": null,
      "outputs": [
        {
          "output_type": "stream",
          "text": [
            "Train on 60000 samples, validate on 10000 samples\n",
            "Epoch 1/100\n",
            " - 2s - loss: 0.0557 - acc: 0.6996 - val_loss: 0.0311 - val_acc: 0.8656\n",
            "Epoch 2/100\n",
            " - 1s - loss: 0.0275 - acc: 0.8752 - val_loss: 0.0237 - val_acc: 0.8914\n",
            "Epoch 3/100\n",
            " - 1s - loss: 0.0230 - acc: 0.8908 - val_loss: 0.0209 - val_acc: 0.9026\n",
            "Epoch 4/100\n",
            " - 1s - loss: 0.0209 - acc: 0.8981 - val_loss: 0.0195 - val_acc: 0.9067\n",
            "Epoch 5/100\n",
            " - 1s - loss: 0.0197 - acc: 0.9030 - val_loss: 0.0184 - val_acc: 0.9123\n",
            "Epoch 6/100\n",
            " - 1s - loss: 0.0188 - acc: 0.9068 - val_loss: 0.0178 - val_acc: 0.9129\n",
            "Epoch 7/100\n",
            " - 1s - loss: 0.0182 - acc: 0.9094 - val_loss: 0.0172 - val_acc: 0.9153\n",
            "Epoch 8/100\n",
            " - 1s - loss: 0.0176 - acc: 0.9113 - val_loss: 0.0169 - val_acc: 0.9164\n",
            "Epoch 9/100\n",
            " - 1s - loss: 0.0172 - acc: 0.9134 - val_loss: 0.0165 - val_acc: 0.9180\n",
            "Epoch 10/100\n",
            " - 1s - loss: 0.0169 - acc: 0.9153 - val_loss: 0.0162 - val_acc: 0.9191\n",
            "Epoch 11/100\n",
            " - 1s - loss: 0.0165 - acc: 0.9161 - val_loss: 0.0160 - val_acc: 0.9195\n",
            "Epoch 12/100\n",
            " - 1s - loss: 0.0163 - acc: 0.9174 - val_loss: 0.0158 - val_acc: 0.9210\n",
            "Epoch 13/100\n",
            " - 1s - loss: 0.0161 - acc: 0.9188 - val_loss: 0.0156 - val_acc: 0.9203\n",
            "Epoch 14/100\n",
            " - 1s - loss: 0.0159 - acc: 0.9199 - val_loss: 0.0154 - val_acc: 0.9212\n",
            "Epoch 15/100\n",
            " - 1s - loss: 0.0157 - acc: 0.9207 - val_loss: 0.0153 - val_acc: 0.9229\n",
            "Epoch 16/100\n",
            " - 1s - loss: 0.0155 - acc: 0.9214 - val_loss: 0.0151 - val_acc: 0.9234\n",
            "Epoch 17/100\n",
            " - 1s - loss: 0.0154 - acc: 0.9219 - val_loss: 0.0150 - val_acc: 0.9236\n",
            "Epoch 18/100\n",
            " - 1s - loss: 0.0153 - acc: 0.9224 - val_loss: 0.0150 - val_acc: 0.9244\n",
            "Epoch 19/100\n",
            " - 1s - loss: 0.0151 - acc: 0.9232 - val_loss: 0.0149 - val_acc: 0.9235\n",
            "Epoch 20/100\n",
            " - 1s - loss: 0.0150 - acc: 0.9236 - val_loss: 0.0148 - val_acc: 0.9245\n",
            "Epoch 21/100\n",
            " - 1s - loss: 0.0149 - acc: 0.9241 - val_loss: 0.0147 - val_acc: 0.9252\n",
            "Epoch 22/100\n",
            " - 1s - loss: 0.0148 - acc: 0.9244 - val_loss: 0.0147 - val_acc: 0.9247\n",
            "Epoch 23/100\n",
            " - 1s - loss: 0.0148 - acc: 0.9252 - val_loss: 0.0147 - val_acc: 0.9243\n",
            "Epoch 24/100\n",
            " - 1s - loss: 0.0147 - acc: 0.9251 - val_loss: 0.0146 - val_acc: 0.9242\n",
            "Epoch 25/100\n",
            " - 1s - loss: 0.0146 - acc: 0.9253 - val_loss: 0.0145 - val_acc: 0.9250\n",
            "Epoch 26/100\n",
            " - 1s - loss: 0.0145 - acc: 0.9261 - val_loss: 0.0146 - val_acc: 0.9254\n",
            "Epoch 27/100\n",
            " - 1s - loss: 0.0145 - acc: 0.9258 - val_loss: 0.0145 - val_acc: 0.9245\n",
            "Epoch 28/100\n",
            " - 1s - loss: 0.0144 - acc: 0.9265 - val_loss: 0.0145 - val_acc: 0.9249\n",
            "Epoch 29/100\n",
            " - 1s - loss: 0.0144 - acc: 0.9265 - val_loss: 0.0144 - val_acc: 0.9248\n",
            "Epoch 30/100\n",
            " - 1s - loss: 0.0143 - acc: 0.9270 - val_loss: 0.0144 - val_acc: 0.9262\n",
            "Epoch 31/100\n",
            " - 1s - loss: 0.0143 - acc: 0.9272 - val_loss: 0.0144 - val_acc: 0.9261\n",
            "Epoch 32/100\n",
            " - 1s - loss: 0.0142 - acc: 0.9267 - val_loss: 0.0144 - val_acc: 0.9251\n",
            "Epoch 33/100\n",
            " - 1s - loss: 0.0142 - acc: 0.9271 - val_loss: 0.0144 - val_acc: 0.9252\n",
            "Epoch 34/100\n",
            " - 1s - loss: 0.0141 - acc: 0.9273 - val_loss: 0.0143 - val_acc: 0.9252\n",
            "Epoch 35/100\n",
            " - 1s - loss: 0.0141 - acc: 0.9275 - val_loss: 0.0143 - val_acc: 0.9254\n",
            "Epoch 36/100\n",
            " - 1s - loss: 0.0141 - acc: 0.9280 - val_loss: 0.0143 - val_acc: 0.9259\n",
            "Epoch 37/100\n",
            " - 1s - loss: 0.0140 - acc: 0.9280 - val_loss: 0.0143 - val_acc: 0.9261\n",
            "Epoch 38/100\n",
            " - 1s - loss: 0.0140 - acc: 0.9278 - val_loss: 0.0142 - val_acc: 0.9259\n",
            "Epoch 39/100\n",
            " - 1s - loss: 0.0140 - acc: 0.9282 - val_loss: 0.0143 - val_acc: 0.9256\n",
            "Epoch 40/100\n",
            " - 1s - loss: 0.0139 - acc: 0.9282 - val_loss: 0.0142 - val_acc: 0.9260\n",
            "Epoch 41/100\n",
            " - 1s - loss: 0.0139 - acc: 0.9285 - val_loss: 0.0143 - val_acc: 0.9265\n",
            "Epoch 42/100\n",
            " - 1s - loss: 0.0139 - acc: 0.9284 - val_loss: 0.0142 - val_acc: 0.9258\n",
            "Epoch 43/100\n",
            " - 1s - loss: 0.0138 - acc: 0.9283 - val_loss: 0.0143 - val_acc: 0.9264\n",
            "Epoch 44/100\n",
            " - 1s - loss: 0.0138 - acc: 0.9286 - val_loss: 0.0142 - val_acc: 0.9271\n",
            "Epoch 45/100\n",
            " - 1s - loss: 0.0138 - acc: 0.9290 - val_loss: 0.0142 - val_acc: 0.9262\n",
            "Epoch 46/100\n",
            " - 1s - loss: 0.0138 - acc: 0.9287 - val_loss: 0.0142 - val_acc: 0.9270\n",
            "Epoch 47/100\n",
            " - 1s - loss: 0.0137 - acc: 0.9289 - val_loss: 0.0143 - val_acc: 0.9272\n",
            "Epoch 48/100\n",
            " - 1s - loss: 0.0137 - acc: 0.9293 - val_loss: 0.0142 - val_acc: 0.9266\n",
            "Epoch 49/100\n",
            " - 1s - loss: 0.0137 - acc: 0.9292 - val_loss: 0.0142 - val_acc: 0.9265\n",
            "Epoch 50/100\n",
            " - 1s - loss: 0.0137 - acc: 0.9293 - val_loss: 0.0142 - val_acc: 0.9260\n",
            "Epoch 51/100\n",
            " - 1s - loss: 0.0137 - acc: 0.9295 - val_loss: 0.0142 - val_acc: 0.9259\n",
            "Epoch 52/100\n",
            " - 1s - loss: 0.0136 - acc: 0.9294 - val_loss: 0.0142 - val_acc: 0.9275\n",
            "Epoch 53/100\n",
            " - 1s - loss: 0.0136 - acc: 0.9296 - val_loss: 0.0142 - val_acc: 0.9265\n",
            "Epoch 54/100\n",
            " - 1s - loss: 0.0136 - acc: 0.9295 - val_loss: 0.0142 - val_acc: 0.9267\n",
            "Epoch 55/100\n",
            " - 1s - loss: 0.0136 - acc: 0.9295 - val_loss: 0.0142 - val_acc: 0.9270\n",
            "Epoch 56/100\n",
            " - 1s - loss: 0.0136 - acc: 0.9300 - val_loss: 0.0142 - val_acc: 0.9272\n",
            "Epoch 57/100\n",
            " - 1s - loss: 0.0135 - acc: 0.9296 - val_loss: 0.0141 - val_acc: 0.9276\n",
            "Epoch 58/100\n",
            " - 1s - loss: 0.0135 - acc: 0.9295 - val_loss: 0.0142 - val_acc: 0.9272\n",
            "Epoch 59/100\n",
            " - 1s - loss: 0.0135 - acc: 0.9298 - val_loss: 0.0142 - val_acc: 0.9278\n",
            "Epoch 60/100\n",
            " - 1s - loss: 0.0135 - acc: 0.9296 - val_loss: 0.0141 - val_acc: 0.9265\n",
            "Epoch 61/100\n",
            " - 1s - loss: 0.0135 - acc: 0.9302 - val_loss: 0.0142 - val_acc: 0.9271\n",
            "Epoch 62/100\n",
            " - 1s - loss: 0.0135 - acc: 0.9299 - val_loss: 0.0142 - val_acc: 0.9273\n",
            "Epoch 63/100\n",
            " - 1s - loss: 0.0134 - acc: 0.9301 - val_loss: 0.0143 - val_acc: 0.9268\n",
            "Epoch 64/100\n",
            " - 1s - loss: 0.0134 - acc: 0.9300 - val_loss: 0.0142 - val_acc: 0.9268\n",
            "Epoch 65/100\n",
            " - 1s - loss: 0.0134 - acc: 0.9303 - val_loss: 0.0142 - val_acc: 0.9286\n",
            "Epoch 66/100\n",
            " - 1s - loss: 0.0134 - acc: 0.9301 - val_loss: 0.0142 - val_acc: 0.9262\n",
            "Epoch 67/100\n",
            " - 1s - loss: 0.0134 - acc: 0.9302 - val_loss: 0.0141 - val_acc: 0.9276\n",
            "Epoch 68/100\n",
            " - 1s - loss: 0.0134 - acc: 0.9302 - val_loss: 0.0141 - val_acc: 0.9281\n",
            "Epoch 69/100\n",
            " - 1s - loss: 0.0134 - acc: 0.9304 - val_loss: 0.0143 - val_acc: 0.9270\n",
            "Epoch 70/100\n",
            " - 1s - loss: 0.0133 - acc: 0.9302 - val_loss: 0.0142 - val_acc: 0.9268\n",
            "Epoch 71/100\n",
            " - 1s - loss: 0.0133 - acc: 0.9302 - val_loss: 0.0142 - val_acc: 0.9270\n",
            "Epoch 72/100\n",
            " - 1s - loss: 0.0133 - acc: 0.9307 - val_loss: 0.0142 - val_acc: 0.9268\n",
            "Epoch 73/100\n",
            " - 1s - loss: 0.0133 - acc: 0.9308 - val_loss: 0.0142 - val_acc: 0.9274\n",
            "Epoch 74/100\n",
            " - 1s - loss: 0.0133 - acc: 0.9308 - val_loss: 0.0143 - val_acc: 0.9262\n",
            "Epoch 75/100\n",
            " - 1s - loss: 0.0133 - acc: 0.9304 - val_loss: 0.0142 - val_acc: 0.9280\n",
            "Epoch 76/100\n",
            " - 1s - loss: 0.0133 - acc: 0.9308 - val_loss: 0.0142 - val_acc: 0.9277\n",
            "Epoch 77/100\n",
            " - 1s - loss: 0.0133 - acc: 0.9306 - val_loss: 0.0141 - val_acc: 0.9276\n",
            "Epoch 78/100\n",
            " - 1s - loss: 0.0133 - acc: 0.9310 - val_loss: 0.0142 - val_acc: 0.9274\n",
            "Epoch 79/100\n",
            " - 1s - loss: 0.0132 - acc: 0.9312 - val_loss: 0.0143 - val_acc: 0.9275\n",
            "Epoch 80/100\n",
            " - 1s - loss: 0.0132 - acc: 0.9307 - val_loss: 0.0142 - val_acc: 0.9277\n",
            "Epoch 81/100\n",
            " - 1s - loss: 0.0132 - acc: 0.9310 - val_loss: 0.0142 - val_acc: 0.9270\n",
            "Epoch 82/100\n",
            " - 1s - loss: 0.0132 - acc: 0.9309 - val_loss: 0.0142 - val_acc: 0.9272\n",
            "Epoch 83/100\n",
            " - 1s - loss: 0.0132 - acc: 0.9307 - val_loss: 0.0142 - val_acc: 0.9281\n",
            "Epoch 84/100\n",
            " - 1s - loss: 0.0132 - acc: 0.9307 - val_loss: 0.0142 - val_acc: 0.9275\n",
            "Epoch 85/100\n",
            " - 1s - loss: 0.0132 - acc: 0.9309 - val_loss: 0.0142 - val_acc: 0.9277\n",
            "Epoch 86/100\n",
            " - 1s - loss: 0.0132 - acc: 0.9311 - val_loss: 0.0141 - val_acc: 0.9270\n",
            "Epoch 87/100\n",
            " - 1s - loss: 0.0132 - acc: 0.9308 - val_loss: 0.0141 - val_acc: 0.9277\n",
            "Epoch 88/100\n",
            " - 1s - loss: 0.0131 - acc: 0.9312 - val_loss: 0.0142 - val_acc: 0.9273\n",
            "Epoch 89/100\n",
            " - 1s - loss: 0.0131 - acc: 0.9309 - val_loss: 0.0142 - val_acc: 0.9276\n",
            "Epoch 90/100\n",
            " - 1s - loss: 0.0131 - acc: 0.9313 - val_loss: 0.0143 - val_acc: 0.9267\n",
            "Epoch 91/100\n",
            " - 1s - loss: 0.0131 - acc: 0.9309 - val_loss: 0.0143 - val_acc: 0.9271\n",
            "Epoch 92/100\n",
            " - 1s - loss: 0.0131 - acc: 0.9311 - val_loss: 0.0142 - val_acc: 0.9269\n",
            "Epoch 93/100\n",
            " - 1s - loss: 0.0131 - acc: 0.9313 - val_loss: 0.0142 - val_acc: 0.9272\n",
            "Epoch 94/100\n",
            " - 1s - loss: 0.0131 - acc: 0.9313 - val_loss: 0.0142 - val_acc: 0.9283\n",
            "Epoch 95/100\n",
            " - 1s - loss: 0.0131 - acc: 0.9312 - val_loss: 0.0142 - val_acc: 0.9275\n",
            "Epoch 96/100\n",
            " - 1s - loss: 0.0131 - acc: 0.9313 - val_loss: 0.0142 - val_acc: 0.9269\n",
            "Epoch 97/100\n",
            " - 1s - loss: 0.0131 - acc: 0.9314 - val_loss: 0.0142 - val_acc: 0.9272\n",
            "Epoch 98/100\n",
            " - 1s - loss: 0.0131 - acc: 0.9316 - val_loss: 0.0143 - val_acc: 0.9282\n",
            "Epoch 99/100\n",
            " - 1s - loss: 0.0131 - acc: 0.9317 - val_loss: 0.0142 - val_acc: 0.9274\n",
            "Epoch 100/100\n",
            " - 1s - loss: 0.0130 - acc: 0.9314 - val_loss: 0.0143 - val_acc: 0.9264\n"
          ],
          "name": "stdout"
        }
      ]
    },
    {
      "cell_type": "code",
      "metadata": {
        "id": "tt7_NV-zRAP0",
        "outputId": "3cd408d7-9e8a-4fc0-ba21-742cac68110b",
        "colab": {
          "base_uri": "https://localhost:8080/",
          "height": 351
        }
      },
      "source": [
        "fig = plt.figure()\n",
        "plt.subplot(2,1,1)\n",
        "plt.plot(history.history['acc'])\n",
        "plt.plot(history.history['val_acc'])\n",
        "plt.title('model accuracy')\n",
        "plt.ylabel('accuracy')\n",
        "plt.xlabel('epoch')\n",
        "plt.legend(['train', 'test'], loc='lower right')\n",
        "\n",
        "plt.subplot(2,1,2)\n",
        "plt.plot(history.history['loss'])\n",
        "plt.plot(history.history['val_loss'])\n",
        "plt.title('model loss')\n",
        "plt.ylabel('loss')\n",
        "plt.xlabel('epoch')\n",
        "plt.legend(['train', 'test'], loc='upper right')\n",
        "\n",
        "plt.tight_layout()\n",
        "\n",
        "fig"
      ],
      "execution_count": null,
      "outputs": [
        {
          "output_type": "stream",
          "text": [
            "/usr/local/lib/python3.6/dist-packages/ipykernel_launcher.py:1: RuntimeWarning: More than 20 figures have been opened. Figures created through the pyplot interface (`matplotlib.pyplot.figure`) are retained until explicitly closed and may consume too much memory. (To control this warning, see the rcParam `figure.max_open_warning`).\n",
            "  \"\"\"Entry point for launching an IPython kernel.\n"
          ],
          "name": "stderr"
        },
        {
          "output_type": "execute_result",
          "data": {
            "image/png": "[encoded data removed]",
            "text/plain": [
              "<Figure size 432x288 with 2 Axes>"
            ]
          },
          "metadata": {
            "tags": []
          },
          "execution_count": 95
        }
      ]
    },
    {
      "cell_type": "code",
      "metadata": {
        "id": "opRJ9fugyj7S"
      },
      "source": [],
      "execution_count": null,
      "outputs": []
    }
  ]
}